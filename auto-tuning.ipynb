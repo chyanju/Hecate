{
 "cells": [
  {
   "cell_type": "code",
   "execution_count": 1,
   "id": "ff60db20-a870-4bac-9b42-5b7723c27537",
   "metadata": {},
   "outputs": [],
   "source": [
    "import json\n",
    "import time\n",
    "import itertools\n",
    "import subprocess"
   ]
  },
  {
   "cell_type": "code",
   "execution_count": 2,
   "id": "374b30e8-2692-4a35-add5-b856c7c9b654",
   "metadata": {},
   "outputs": [],
   "source": [
    "with open(\"./autotuning.json\", \"rb\") as f:\n",
    "    config = json.load(f)"
   ]
  },
  {
   "cell_type": "code",
   "execution_count": null,
   "id": "12f9eabb-a103-44dc-b2ee-bdaf3b47d997",
   "metadata": {},
   "outputs": [],
   "source": []
  },
  {
   "cell_type": "code",
   "execution_count": 3,
   "id": "18d48ce6-7574-409d-bd11-4e8c69d2ec5b",
   "metadata": {},
   "outputs": [],
   "source": [
    "template_traversal = \\\n",
    "\"\"\"traversal {tname} {{\n",
    "{tbody}\n",
    "}}\"\"\"\n",
    "template_case = \\\n",
    "\"\"\"    case {cname} {{\n",
    "        {cbody}\n",
    "    }}\n",
    "\"\"\""
   ]
  },
  {
   "cell_type": "code",
   "execution_count": 4,
   "id": "27bb8a5f-84dc-4262-a072-5505a0c740ff",
   "metadata": {},
   "outputs": [],
   "source": [
    "def get_case_generator(arg_case, arg_nminor):\n",
    "    all_perms = itertools.permutations(arg_case[\"major\"]+[None for _ in range(arg_nminor)])\n",
    "    for p in all_perms:\n",
    "        minor_combs = itertools.combinations(arg_case[\"minor\"], r=arg_nminor)\n",
    "        for q in minor_combs:\n",
    "            newp = []\n",
    "            ind = 0\n",
    "            for x in p:\n",
    "                if x is None:\n",
    "                    newp.append(q[ind])\n",
    "                    ind += 1\n",
    "                else:\n",
    "                    newp.append(x)\n",
    "                newp.append(\"??;\")\n",
    "            yield tuple([\"??;\"]+newp)"
   ]
  },
  {
   "cell_type": "code",
   "execution_count": 5,
   "id": "b5565d31-8aa5-485a-9da9-db6de7ab66fd",
   "metadata": {},
   "outputs": [],
   "source": [
    "def get_traversal_generator(arg_benchmark, arg_nminors):\n",
    "    case_list = list(arg_benchmark[\"cases\"].keys())\n",
    "    case_generators = []\n",
    "    for i in range(len(case_list)):\n",
    "        dcase = case_list[i]\n",
    "        tmp_case = get_case_generator(arg_benchmark[\"cases\"][dcase], arg_nminors[i])\n",
    "        case_generators.append(tmp_case)\n",
    "\n",
    "    all_cases = itertools.product(*case_generators)\n",
    "    for prod in all_cases:\n",
    "        all_str_cases = []\n",
    "        for i in range(len(prod)):\n",
    "            str_case = template_case.format(\n",
    "                cname=case_list[i],\n",
    "                cbody=\"\\n        \".join(prod[i]),\n",
    "            )\n",
    "            all_str_cases.append(str_case)\n",
    "        str_traversal = template_traversal.format(\n",
    "            tname=arg_benchmark[\"name\"],\n",
    "            tbody=\"\\n\".join(all_str_cases),\n",
    "        )\n",
    "        # print(\"======\")\n",
    "        # print(str_traversal)\n",
    "        yield str_traversal"
   ]
  },
  {
   "cell_type": "code",
   "execution_count": null,
   "id": "aac4dec8-f8a8-4aa4-b0ef-c3ba819b396a",
   "metadata": {},
   "outputs": [],
   "source": []
  },
  {
   "cell_type": "code",
   "execution_count": 7,
   "id": "ececa4aa-a1c4-4164-a4e8-26c43f228762",
   "metadata": {
    "tags": []
   },
   "outputs": [
    {
     "name": "stdout",
     "output_type": "stream",
     "text": [
      "# synthesizing traversal 0...\n",
      "traversal fuse {\n",
      "    case CRoot {\n",
      "        ??;\n",
      "        recur root;\n",
      "        ??;\n",
      "    }\n",
      "\n",
      "    case CNode {\n",
      "        ??;\n",
      "        iterate l { ??; recur l; ??; }\n",
      "        ??;\n",
      "        iterate r { ??; recur r; ??; }\n",
      "        ??;\n",
      "    }\n",
      "\n",
      "}\n"
     ]
    },
    {
     "name": "stdin",
     "output_type": "stream",
     "text": [
      "PRESS FOR NEXT \n"
     ]
    },
    {
     "name": "stdout",
     "output_type": "stream",
     "text": [
      "# synthesizing traversal 1...\n",
      "traversal fuse {\n",
      "    case CRoot {\n",
      "        ??;\n",
      "        recur root;\n",
      "        ??;\n",
      "    }\n",
      "\n",
      "    case CNode {\n",
      "        ??;\n",
      "        iterate r { ??; recur r; ??; }\n",
      "        ??;\n",
      "        iterate l { ??; recur l; ??; }\n",
      "        ??;\n",
      "    }\n",
      "\n",
      "}\n"
     ]
    },
    {
     "name": "stdin",
     "output_type": "stream",
     "text": [
      "PRESS FOR NEXT \n"
     ]
    }
   ],
   "source": [
    "benchmark = \"meta-binary-tree.grammar\"\n",
    "# benchmark = \"meta-fmm.grammar\"\n",
    "# benchmark = \"meta-piecewise-exp1.grammar\"\n",
    "# benchmark = \"meta-piecewise-exp2.grammar\"\n",
    "# benchmark = \"meta-piecewise-exp3.grammar\"\n",
    "# benchmark = \"meta-render.grammar\"\n",
    "nminors = [0 for _ in range(len(config[benchmark][\"cases\"].keys()))]\n",
    "\n",
    "# benchmark = \"meta-ast.grammar\"\n",
    "# nminors = [0, 0, 1, 0]\n",
    "\n",
    "tt = get_traversal_generator(config[benchmark], nminors)\n",
    "\n",
    "with open(\"./benchmarks/grafter/{}\".format(benchmark), \"r\") as f:\n",
    "    strb = f.read()\n",
    "tmp_cnt = -1\n",
    "for z in tt:\n",
    "    tmp_cnt += 1\n",
    "    print(\"# synthesizing traversal {}...\".format(tmp_cnt))\n",
    "    # instantiate \n",
    "#     strz = strb.replace(\"<auto traversal>\", z)\n",
    "#     print(strz)\n",
    "    print(z)\n",
    "    input(\"PRESS FOR NEXT\")\n",
    "    # put to temporary file\n",
    "#     fpath = \"./tmp/{}-{}\".format(str(time.time()), benchmark)\n",
    "#     with open(fpath, \"w\") as f:\n",
    "#         f.write(strz)\n",
    "        \n",
    "#     # run hecate\n",
    "#     p = subprocess.run(\n",
    "#         [\"racket\", \"./run.rkt\", \"--root\", config[benchmark][\"root\"], config[benchmark][\"name\"], fpath], \n",
    "#         stdout=subprocess.PIPE, encoding=\"utf-8\"\n",
    "#     )\n",
    "#     if p.returncode==0 and \"SAT\" in p.stdout:\n",
    "#         print(\"  # succceed\".format(tmp_cnt))\n",
    "#         print(\"  # symbolic traversal is:\\n{}\".format(z))\n",
    "#         print(\"  # output is:\\n{}\".format(p.stdout))\n",
    "#         break\n",
    "#     else:\n",
    "#         print(\"  # fail\".format(tmp_cnt))"
   ]
  },
  {
   "cell_type": "code",
   "execution_count": 101,
   "id": "1ccc64fd-ef7f-4244-868e-35797e2f458c",
   "metadata": {},
   "outputs": [],
   "source": []
  },
  {
   "cell_type": "code",
   "execution_count": null,
   "id": "dedcbadf-91e1-4f54-b20f-8eb59bf0bec5",
   "metadata": {},
   "outputs": [],
   "source": []
  },
  {
   "cell_type": "code",
   "execution_count": null,
   "id": "b6cb6df3-c32a-4333-8b17-b30c90446384",
   "metadata": {},
   "outputs": [],
   "source": []
  },
  {
   "cell_type": "code",
   "execution_count": 1,
   "id": "2f716a74-f0b7-4c67-9d26-777572a3042d",
   "metadata": {},
   "outputs": [],
   "source": []
  },
  {
   "cell_type": "code",
   "execution_count": null,
   "id": "659dda06-e1bc-4576-9d83-e9796ca84cc1",
   "metadata": {},
   "outputs": [],
   "source": []
  },
  {
   "cell_type": "markdown",
   "id": "b696e1d5-d769-4ef9-b7eb-98661a0ce234",
   "metadata": {},
   "source": [
    "#### old traversal template"
   ]
  },
  {
   "cell_type": "code",
   "execution_count": 121,
   "id": "c1375cdd-c0f3-4449-96d5-4a445c52307b",
   "metadata": {},
   "outputs": [],
   "source": [
    "template_traversal = \\\n",
    "\"\"\"traversal {tname} {{\n",
    "{tbody}\n",
    "}}\"\"\"\n",
    "template_case = \\\n",
    "\"\"\"    case {cname} {{\n",
    "        {cbody}\n",
    "    }}\n",
    "\"\"\"\n",
    "def generate_traversal(arg_config):\n",
    "    ret_traversals = []\n",
    "    \n",
    "    # first construct shared components\n",
    "    major_perms = {}\n",
    "    minor_perms = {}\n",
    "    case_perms = {}\n",
    "    stuffing = {}\n",
    "    for dkey in arg_config[\"cases\"].keys():\n",
    "        dcase = arg_config[\"cases\"][dkey]\n",
    "        # first generate all permutations of major components\n",
    "        major_list = dcase[\"major\"] + [\"??;\"]\n",
    "        major_perms[dkey] = list(itertools.permutations(major_list))\n",
    "        # then generate all permutations of minor components\n",
    "        minor_list = dcase[\"minor\"] + [\"??;\"]\n",
    "        minor_perms[dkey] = list(itertools.permutations(minor_list))\n",
    "        # then chain all the minor permutations together\n",
    "        tmp_stuffing = ()\n",
    "        for p in minor_perms[dkey]:\n",
    "            tmp_stuffing += p\n",
    "        stuffing[dkey] = tmp_stuffing\n",
    "        # then for every case, construct all candidate permutations\n",
    "        case_perms[dkey] = []\n",
    "        for p in major_perms[dkey]:\n",
    "            tmp_p = ()\n",
    "            for q in p:\n",
    "                tmp_p += (q,)\n",
    "                tmp_p += tmp_stuffing\n",
    "            tmp_p = tmp_stuffing + tmp_p\n",
    "            case_perms[dkey].append(tmp_p)\n",
    "    \n",
    "#     return case_perms\n",
    "    \n",
    "    # convert case permutations to string\n",
    "    str_case_perms = {}\n",
    "    for dkey in case_perms.keys():\n",
    "        tt = case_perms[dkey]\n",
    "        str_case_perms[dkey] = []\n",
    "        for pp in tt:\n",
    "            ss = template_case.format(\n",
    "                cname=dkey,\n",
    "                cbody=\"\\n        \".join(pp)\n",
    "            )\n",
    "            str_case_perms[dkey].append(ss)\n",
    "\n",
    "#     return str_case_perms\n",
    "\n",
    "    # print(str_case_perms)\n",
    "    # get all final permutations\n",
    "    all_perms = itertools.product(*(str_case_perms.values()))\n",
    "    str_all_perms = []\n",
    "    for p in all_perms:\n",
    "        # print(\"p is: {}\".format(p))\n",
    "        str_all_perms.append(template_traversal.format(\n",
    "            tname=arg_config[\"name\"],\n",
    "            tbody=\"\\n\".join(p)\n",
    "        ))\n",
    "    \n",
    "    return str_all_perms"
   ]
  },
  {
   "cell_type": "code",
   "execution_count": 116,
   "id": "d1c447b8-6234-4d4c-aad0-4e6d86dd6873",
   "metadata": {},
   "outputs": [],
   "source": [
    "oo = generate_traversal(config[\"binary-tree.grammar\"])"
   ]
  }
 ],
 "metadata": {
  "kernelspec": {
   "display_name": "base",
   "language": "python",
   "name": "base"
  },
  "language_info": {
   "codemirror_mode": {
    "name": "ipython",
    "version": 3
   },
   "file_extension": ".py",
   "mimetype": "text/x-python",
   "name": "python",
   "nbconvert_exporter": "python",
   "pygments_lexer": "ipython3",
   "version": "3.8.8"
  }
 },
 "nbformat": 4,
 "nbformat_minor": 5
}
